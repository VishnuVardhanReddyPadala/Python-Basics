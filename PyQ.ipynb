{
  "nbformat": 4,
  "nbformat_minor": 0,
  "metadata": {
    "colab": {
      "provenance": []
    },
    "kernelspec": {
      "name": "python3",
      "display_name": "Python 3"
    },
    "language_info": {
      "name": "python"
    }
  },
  "cells": [
    {
      "cell_type": "code",
      "execution_count": 30,
      "metadata": {
        "colab": {
          "base_uri": "https://localhost:8080/"
        },
        "id": "1VQNuIHAUCZ3",
        "outputId": "5198eb91-f9a4-4590-f58c-f18731939b18"
      },
      "outputs": [
        {
          "output_type": "stream",
          "name": "stdout",
          "text": [
            "not prime\n"
          ]
        }
      ],
      "source": [
        "#complexity O(n)\n",
        "def prime(n):\n",
        "  if n<2:\n",
        "    return \"not prime\"\n",
        "  for i in range(2,n):\n",
        "    if n%i==0:\n",
        "      return \"not prime\"\n",
        "  return \"prime\"\n",
        "print(prime(12))"
      ]
    },
    {
      "cell_type": "code",
      "source": [
        "#Optimized O(sqrt(n))\n",
        "def prime(n):\n",
        "    if n < 2:\n",
        "        return \"not prime\"\n",
        "    for i in range(2, int(n ** 0.5) + 1):  # Loop only up to sqrt(n)\n",
        "        if n % i == 0:\n",
        "            return \"not prime\"\n",
        "    return \"prime\"\n",
        "\n",
        "print(prime(1))\n"
      ],
      "metadata": {
        "colab": {
          "base_uri": "https://localhost:8080/"
        },
        "id": "TBQ8BH7EZlGf",
        "outputId": "a32b7070-c51a-46b1-87f3-15a3f625c88b"
      },
      "execution_count": 35,
      "outputs": [
        {
          "output_type": "stream",
          "name": "stdout",
          "text": [
            "not prime\n"
          ]
        }
      ]
    },
    {
      "cell_type": "code",
      "source": [
        "a = [1,2,3,4,5,6,7,1,2,3,5,1]\n",
        "for i in range(0,len(a)):\n",
        "  print(f\"{i} :\",a.count(i))"
      ],
      "metadata": {
        "colab": {
          "base_uri": "https://localhost:8080/"
        },
        "id": "RxxYcRctZlDF",
        "outputId": "40835709-5162-4ba5-8646-597179fda818"
      },
      "execution_count": 47,
      "outputs": [
        {
          "output_type": "stream",
          "name": "stdout",
          "text": [
            "0 : 0\n",
            "1 : 3\n",
            "2 : 2\n",
            "3 : 2\n",
            "4 : 1\n",
            "5 : 2\n",
            "6 : 1\n",
            "7 : 1\n",
            "8 : 0\n",
            "9 : 0\n",
            "10 : 0\n",
            "11 : 0\n"
          ]
        }
      ]
    },
    {
      "cell_type": "code",
      "source": [
        "a = [1, 2, 3, 4, 5, 6, 7, 1, 2, 3, 5,1]\n",
        "count_list = [(num, a.count(num)) for num in set(a)]\n",
        "print(count_list)"
      ],
      "metadata": {
        "colab": {
          "base_uri": "https://localhost:8080/"
        },
        "id": "vU1wO0MNZlAv",
        "outputId": "f2d0b063-4947-4cbc-8a32-a92e37df5334"
      },
      "execution_count": 40,
      "outputs": [
        {
          "output_type": "stream",
          "name": "stdout",
          "text": [
            "[(1, 3), (2, 2), (3, 2), (4, 1), (5, 2), (6, 1), (7, 1)]\n"
          ]
        }
      ]
    },
    {
      "cell_type": "code",
      "source": [
        "#Optimized O(n)\n",
        "a = [1, 2, 3, 4, 5, 6, 7, 1, 2, 3, 5, 1]\n",
        "count_dict = {}\n",
        "\n",
        "# Count occurrences in a single pass (O(n))\n",
        "for num in a:\n",
        "    count_dict[num] = count_dict.get(num, 0) + 1\n",
        "\n",
        "# Convert dictionary to list\n",
        "count_list = list(count_dict.items())\n",
        "print(count_dict)\n"
      ],
      "metadata": {
        "colab": {
          "base_uri": "https://localhost:8080/"
        },
        "id": "QjaW7cjkZk9-",
        "outputId": "786234e9-f6f0-44d1-8b8e-e01a90873bfb"
      },
      "execution_count": 45,
      "outputs": [
        {
          "output_type": "stream",
          "name": "stdout",
          "text": [
            "{1: 3, 2: 2, 3: 2, 4: 1, 5: 2, 6: 1, 7: 1}\n"
          ]
        }
      ]
    },
    {
      "cell_type": "code",
      "source": [
        "a = [1,2,3,4,5,6,7,1,2,3,5,1]\n",
        "seen = []\n",
        "for i in range(0,len(a)):\n",
        "  if i not in seen:\n",
        "    a[i]=\n",
        "\n",
        "    print(f\"{i} :\",a.count(i))"
      ],
      "metadata": {
        "colab": {
          "base_uri": "https://localhost:8080/"
        },
        "id": "kFfssstoZGa-",
        "outputId": "a94e7e54-0479-4b7c-facb-4be8d5328bce"
      },
      "execution_count": 48,
      "outputs": [
        {
          "output_type": "stream",
          "name": "stdout",
          "text": [
            "0 : 0\n",
            "1 : 3\n",
            "2 : 2\n",
            "3 : 2\n",
            "4 : 1\n",
            "5 : 2\n",
            "6 : 1\n",
            "7 : 1\n",
            "8 : 0\n",
            "9 : 0\n",
            "10 : 0\n",
            "11 : 0\n"
          ]
        }
      ]
    },
    {
      "cell_type": "code",
      "source": [
        "a = [1,2,3,4,5,6,7,1,2,3,5,1]\n",
        "for i in range(0,len(a)):\n",
        "  if a[i] ==1 :\n",
        "    print(\"one\")\n",
        "  print(a[i])"
      ],
      "metadata": {
        "colab": {
          "base_uri": "https://localhost:8080/"
        },
        "id": "ajgxT0P4fmA0",
        "outputId": "1b956854-d513-4468-c299-415f6bb11584"
      },
      "execution_count": 62,
      "outputs": [
        {
          "output_type": "stream",
          "name": "stdout",
          "text": [
            "one\n",
            "1\n",
            "2\n",
            "3\n",
            "4\n",
            "5\n",
            "6\n",
            "7\n",
            "one\n",
            "1\n",
            "2\n",
            "3\n",
            "5\n",
            "one\n",
            "1\n"
          ]
        }
      ]
    },
    {
      "cell_type": "code",
      "source": [
        "a = [1, 2, 3, 4, 5, 6, 7, 1, 2, 3, 5, 1]\n",
        "output = []\n",
        "\n",
        "for i in range(0, len(a)):\n",
        "    if a[i] == 1:\n",
        "        output.append(\"one\")\n",
        "    output.append(a[i])\n",
        "\n",
        "print(output)"
      ],
      "metadata": {
        "colab": {
          "base_uri": "https://localhost:8080/"
        },
        "id": "Mi_876Zcg9LH",
        "outputId": "e2be1991-ae35-4a2c-efa8-4ad70c00806e"
      },
      "execution_count": 63,
      "outputs": [
        {
          "output_type": "stream",
          "name": "stdout",
          "text": [
            "['one', 1, 2, 3, 4, 5, 6, 7, 'one', 1, 2, 3, 5, 'one', 1]\n"
          ]
        }
      ]
    },
    {
      "cell_type": "code",
      "source": [],
      "metadata": {
        "id": "nTk_zYbafl9t"
      },
      "execution_count": 55,
      "outputs": []
    },
    {
      "cell_type": "code",
      "source": [],
      "metadata": {
        "id": "VNX5Wqorfl7-"
      },
      "execution_count": null,
      "outputs": []
    },
    {
      "cell_type": "code",
      "source": [],
      "metadata": {
        "id": "gsYhjDHQfl5f"
      },
      "execution_count": null,
      "outputs": []
    },
    {
      "cell_type": "code",
      "source": [],
      "metadata": {
        "id": "fRYYgMStfl3X"
      },
      "execution_count": null,
      "outputs": []
    },
    {
      "cell_type": "code",
      "source": [],
      "metadata": {
        "id": "di-4FIgBfl07"
      },
      "execution_count": null,
      "outputs": []
    },
    {
      "cell_type": "code",
      "source": [],
      "metadata": {
        "id": "5EfrA8j3fltH"
      },
      "execution_count": null,
      "outputs": []
    }
  ]
}